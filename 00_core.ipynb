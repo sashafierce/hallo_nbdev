{
 "cells": [
  {
   "cell_type": "code",
   "execution_count": null,
   "metadata": {},
   "outputs": [],
   "source": [
    "# default_exp core"
   ]
  },
  {
   "cell_type": "markdown",
   "metadata": {},
   "source": [
    "# Roman to Integer \n",
    "\n",
    "> methods to convert roman to integer and vice versa"
   ]
  },
  {
   "cell_type": "code",
   "execution_count": null,
   "metadata": {},
   "outputs": [],
   "source": [
    "#hide\n",
    "from nbdev.showdoc import *"
   ]
  },
  {
   "cell_type": "code",
   "execution_count": null,
   "metadata": {},
   "outputs": [],
   "source": [
    "# export\n",
    "def roman_to_int(s):\n",
    "    \"\"\"\n",
    "    :type s: str\n",
    "    :rtype: int\n",
    "    \"\"\"\n",
    "    roman_dict = {'I': 1, 'V': 5, 'X': 10, 'L': 50, 'C': 100, 'D': 500, 'M': 1000}\n",
    "\n",
    "    if len(s) == 1:\n",
    "        return roman_dict[s[0]]       \n",
    "\n",
    "    # atleast 2 len\n",
    "    converted_int = 0\n",
    "    prev_item = -1\n",
    "    for idx, item in enumerate(s):\n",
    "        if prev_item == -1:\n",
    "            prev_item = item\n",
    "            if idx == len(s) - 1:\n",
    "                converted_int += roman_dict[item]\n",
    "            continue\n",
    "        if roman_dict[prev_item] < roman_dict[item]:\n",
    "            converted_int += (roman_dict[item] - roman_dict[prev_item])\n",
    "            prev_item = -1\n",
    "        else:\n",
    "            converted_int += roman_dict[prev_item]\n",
    "            if idx == len(s) - 1:\n",
    "                converted_int += roman_dict[item]\n",
    "            prev_item = item\n",
    "            \n",
    "            \n",
    "        return converted_int"
   ]
  },
  {
   "cell_type": "code",
   "execution_count": null,
   "metadata": {},
   "outputs": [],
   "source": [
    "# export\n",
    "def int_to_roman(i):\n",
    "    \"\"\"\n",
    "    :type i: int\n",
    "    :rtype: str\n",
    "    \"\"\"\n",
    "    return \"Not Implemented\""
   ]
  },
  {
   "cell_type": "code",
   "execution_count": null,
   "metadata": {},
   "outputs": [
    {
     "data": {
      "text/plain": [
       "501"
      ]
     },
     "execution_count": null,
     "metadata": {},
     "output_type": "execute_result"
    }
   ],
   "source": [
    "roman_to_int(s='DI')"
   ]
  },
  {
   "cell_type": "code",
   "execution_count": null,
   "metadata": {},
   "outputs": [],
   "source": [
    "assert roman_to_int(s='DI') == 501"
   ]
  }
 ],
 "metadata": {
  "kernelspec": {
   "display_name": "Python 3",
   "language": "python",
   "name": "python3"
  }
 },
 "nbformat": 4,
 "nbformat_minor": 2
}
